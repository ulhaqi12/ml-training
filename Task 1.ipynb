{
 "cells": [
  {
   "cell_type": "code",
   "execution_count": 1,
   "metadata": {},
   "outputs": [],
   "source": [
    "import pandas as pd\n",
    "import numpy as np\n",
    "import matplotlib.pyplot as plt\n",
    "\n",
    "from sklearn.model_selection import train_test_split\n",
    "from sklearn.linear_model import LogisticRegression\n",
    "from sklearn.neighbors import KNeighborsClassifier\n",
    "from sklearn.tree import DecisionTreeClassifier\n",
    "from sklearn.svm import SVC\n",
    "from sklearn.ensemble import RandomForestClassifier\n",
    "from sklearn.naive_bayes import GaussianNB\n",
    "from sklearn.metrics import plot_roc_curve\n",
    "from sklearn.decomposition import PCA \n",
    "from sklearn.model_selection import learning_curve\n",
    "\n",
    "%matplotlib inline"
   ]
  },
  {
   "cell_type": "code",
   "execution_count": 2,
   "metadata": {},
   "outputs": [
    {
     "data": {
      "text/html": [
       "<div>\n",
       "<style scoped>\n",
       "    .dataframe tbody tr th:only-of-type {\n",
       "        vertical-align: middle;\n",
       "    }\n",
       "\n",
       "    .dataframe tbody tr th {\n",
       "        vertical-align: top;\n",
       "    }\n",
       "\n",
       "    .dataframe thead th {\n",
       "        text-align: right;\n",
       "    }\n",
       "</style>\n",
       "<table border=\"1\" class=\"dataframe\">\n",
       "  <thead>\n",
       "    <tr style=\"text-align: right;\">\n",
       "      <th></th>\n",
       "      <th>x1</th>\n",
       "      <th>x2</th>\n",
       "      <th>x3</th>\n",
       "      <th>x4</th>\n",
       "      <th>x5</th>\n",
       "      <th>x6</th>\n",
       "      <th>x7</th>\n",
       "      <th>x8</th>\n",
       "      <th>y_class</th>\n",
       "    </tr>\n",
       "  </thead>\n",
       "  <tbody>\n",
       "    <tr>\n",
       "      <th>0</th>\n",
       "      <td>2.7</td>\n",
       "      <td>-4.55</td>\n",
       "      <td>6.4</td>\n",
       "      <td>3.7</td>\n",
       "      <td>5</td>\n",
       "      <td>1</td>\n",
       "      <td>0</td>\n",
       "      <td>-15.55</td>\n",
       "      <td>0</td>\n",
       "    </tr>\n",
       "    <tr>\n",
       "      <th>1</th>\n",
       "      <td>-2.2</td>\n",
       "      <td>0.05</td>\n",
       "      <td>9.7</td>\n",
       "      <td>19.5</td>\n",
       "      <td>-56</td>\n",
       "      <td>0</td>\n",
       "      <td>1</td>\n",
       "      <td>-16.45</td>\n",
       "      <td>1</td>\n",
       "    </tr>\n",
       "    <tr>\n",
       "      <th>2</th>\n",
       "      <td>7.2</td>\n",
       "      <td>3.05</td>\n",
       "      <td>-9.8</td>\n",
       "      <td>-13.5</td>\n",
       "      <td>35</td>\n",
       "      <td>1</td>\n",
       "      <td>1</td>\n",
       "      <td>20.75</td>\n",
       "      <td>0</td>\n",
       "    </tr>\n",
       "    <tr>\n",
       "      <th>3</th>\n",
       "      <td>6.7</td>\n",
       "      <td>1.30</td>\n",
       "      <td>9.7</td>\n",
       "      <td>22.0</td>\n",
       "      <td>-7</td>\n",
       "      <td>1</td>\n",
       "      <td>1</td>\n",
       "      <td>14.00</td>\n",
       "      <td>0</td>\n",
       "    </tr>\n",
       "    <tr>\n",
       "      <th>4</th>\n",
       "      <td>7.1</td>\n",
       "      <td>-4.10</td>\n",
       "      <td>-6.8</td>\n",
       "      <td>-21.8</td>\n",
       "      <td>-45</td>\n",
       "      <td>0</td>\n",
       "      <td>1</td>\n",
       "      <td>-1.00</td>\n",
       "      <td>0</td>\n",
       "    </tr>\n",
       "  </tbody>\n",
       "</table>\n",
       "</div>"
      ],
      "text/plain": [
       "    x1    x2   x3    x4  x5  x6  x7     x8  y_class\n",
       "0  2.7 -4.55  6.4   3.7   5   1   0 -15.55        0\n",
       "1 -2.2  0.05  9.7  19.5 -56   0   1 -16.45        1\n",
       "2  7.2  3.05 -9.8 -13.5  35   1   1  20.75        0\n",
       "3  6.7  1.30  9.7  22.0  -7   1   1  14.00        0\n",
       "4  7.1 -4.10 -6.8 -21.8 -45   0   1  -1.00        0"
      ]
     },
     "execution_count": 2,
     "metadata": {},
     "output_type": "execute_result"
    }
   ],
   "source": [
    "df = pd.read_csv('part_1.csv')\n",
    "df.head()"
   ]
  },
  {
   "cell_type": "code",
   "execution_count": 3,
   "metadata": {},
   "outputs": [
    {
     "data": {
      "image/png": "[encoded data removed]",
      "text/plain": [
       "<Figure size 432x288 with 1 Axes>"
      ]
     },
     "metadata": {
      "needs_background": "light"
     },
     "output_type": "display_data"
    },
    {
     "name": "stdout",
     "output_type": "stream",
     "text": [
      "Class 0:  222  Class 1:  178\n"
     ]
    }
   ],
   "source": [
    "counts = df['y_class'].value_counts()\n",
    "plt.hist(df['y_class'])\n",
    "plt.show()\n",
    "print('Class 0: ',counts[0], ' Class 1: ', counts[1])"
   ]
  },
  {
   "cell_type": "code",
   "execution_count": 4,
   "metadata": {},
   "outputs": [
    {
     "data": {
      "text/html": [
       "<div>\n",
       "<style scoped>\n",
       "    .dataframe tbody tr th:only-of-type {\n",
       "        vertical-align: middle;\n",
       "    }\n",
       "\n",
       "    .dataframe tbody tr th {\n",
       "        vertical-align: top;\n",
       "    }\n",
       "\n",
       "    .dataframe thead th {\n",
       "        text-align: right;\n",
       "    }\n",
       "</style>\n",
       "<table border=\"1\" class=\"dataframe\">\n",
       "  <thead>\n",
       "    <tr style=\"text-align: right;\">\n",
       "      <th></th>\n",
       "      <th>x1</th>\n",
       "      <th>x2</th>\n",
       "      <th>x3</th>\n",
       "      <th>x4</th>\n",
       "      <th>x5</th>\n",
       "      <th>x6</th>\n",
       "      <th>x7</th>\n",
       "      <th>x8</th>\n",
       "    </tr>\n",
       "  </thead>\n",
       "  <tbody>\n",
       "    <tr>\n",
       "      <th>0</th>\n",
       "      <td>2.7</td>\n",
       "      <td>-4.55</td>\n",
       "      <td>6.4</td>\n",
       "      <td>3.7</td>\n",
       "      <td>5</td>\n",
       "      <td>1</td>\n",
       "      <td>0</td>\n",
       "      <td>-15.55</td>\n",
       "    </tr>\n",
       "    <tr>\n",
       "      <th>1</th>\n",
       "      <td>-2.2</td>\n",
       "      <td>0.05</td>\n",
       "      <td>9.7</td>\n",
       "      <td>19.5</td>\n",
       "      <td>-56</td>\n",
       "      <td>0</td>\n",
       "      <td>1</td>\n",
       "      <td>-16.45</td>\n",
       "    </tr>\n",
       "    <tr>\n",
       "      <th>2</th>\n",
       "      <td>7.2</td>\n",
       "      <td>3.05</td>\n",
       "      <td>-9.8</td>\n",
       "      <td>-13.5</td>\n",
       "      <td>35</td>\n",
       "      <td>1</td>\n",
       "      <td>1</td>\n",
       "      <td>20.75</td>\n",
       "    </tr>\n",
       "    <tr>\n",
       "      <th>3</th>\n",
       "      <td>6.7</td>\n",
       "      <td>1.30</td>\n",
       "      <td>9.7</td>\n",
       "      <td>22.0</td>\n",
       "      <td>-7</td>\n",
       "      <td>1</td>\n",
       "      <td>1</td>\n",
       "      <td>14.00</td>\n",
       "    </tr>\n",
       "    <tr>\n",
       "      <th>4</th>\n",
       "      <td>7.1</td>\n",
       "      <td>-4.10</td>\n",
       "      <td>-6.8</td>\n",
       "      <td>-21.8</td>\n",
       "      <td>-45</td>\n",
       "      <td>0</td>\n",
       "      <td>1</td>\n",
       "      <td>-1.00</td>\n",
       "    </tr>\n",
       "  </tbody>\n",
       "</table>\n",
       "</div>"
      ],
      "text/plain": [
       "    x1    x2   x3    x4  x5  x6  x7     x8\n",
       "0  2.7 -4.55  6.4   3.7   5   1   0 -15.55\n",
       "1 -2.2  0.05  9.7  19.5 -56   0   1 -16.45\n",
       "2  7.2  3.05 -9.8 -13.5  35   1   1  20.75\n",
       "3  6.7  1.30  9.7  22.0  -7   1   1  14.00\n",
       "4  7.1 -4.10 -6.8 -21.8 -45   0   1  -1.00"
      ]
     },
     "execution_count": 4,
     "metadata": {},
     "output_type": "execute_result"
    }
   ],
   "source": [
    "data = 0\n",
    "if 'y_class' in df.columns:\n",
    "    labels = df.y_class\n",
    "    data = df.drop(['y_class'], axis=1)\n",
    "data.head()"
   ]
  },
  {
   "cell_type": "code",
   "execution_count": 5,
   "metadata": {},
   "outputs": [],
   "source": [
    "x_train, x_test, y_train, y_test = train_test_split(data, labels, test_size=0.2, random_state=0)"
   ]
  },
  {
   "cell_type": "markdown",
   "metadata": {},
   "source": [
    "### Try 2D visualization using PCA"
   ]
  },
  {
   "cell_type": "code",
   "execution_count": null,
   "metadata": {},
   "outputs": [],
   "source": [
    "df_pos = df[df['y_class'] == 1]\n",
    "df_neg = df[df['y_class'] == 0]\n",
    "df_pos = df_pos.drop(['y_class'], axis=1)\n",
    "df_neg = df_neg.drop(['y_class'], axis=1)\n",
    "pca = PCA(n_components=2)\n",
    "x_pos = pca.fit_transform(df_pos)\n",
    "x_neg = pca.fit_transform(df_neg)"
   ]
  },
  {
   "cell_type": "code",
   "execution_count": 7,
   "metadata": {},
   "outputs": [
    {
     "data": {
      "text/plain": [
       "<matplotlib.collections.PathCollection at 0x7feb0ff07880>"
      ]
     },
     "execution_count": 7,
     "metadata": {},
     "output_type": "execute_result"
    },
    {
     "data": {
      "image/png": "[encoded data removed]",
      "text/plain": [
       "<Figure size 432x288 with 1 Axes>"
      ]
     },
     "metadata": {
      "needs_background": "light"
     },
     "output_type": "display_data"
    }
   ],
   "source": [
    "plt.scatter(x_pos[:,0], x_pos[:,1])\n",
    "plt.scatter(x_neg[:,0], x_neg[:,1])"
   ]
  },
  {
   "cell_type": "markdown",
   "metadata": {},
   "source": [
    "##### Data Exploration: Range of values using histogram"
   ]
  },
  {
   "cell_type": "code",
   "execution_count": 8,
   "metadata": {},
   "outputs": [
    {
     "data": {
      "text/plain": [
       "(array([197.,   0.,   0.,   0.,   0.,   0.,   0.,   0.,   0., 203.]),\n",
       " array([0. , 0.1, 0.2, 0.3, 0.4, 0.5, 0.6, 0.7, 0.8, 0.9, 1. ]),\n",
       " <BarContainer object of 10 artists>)"
      ]
     },
     "execution_count": 8,
     "metadata": {},
     "output_type": "execute_result"
    },
    {
     "data": {
      "image/png": "[encoded data removed]",
      "text/plain": [
       "<Figure size 432x288 with 6 Axes>"
      ]
     },
     "metadata": {
      "needs_background": "light"
     },
     "output_type": "display_data"
    }
   ],
   "source": [
    "fig, axs = plt.subplots(2,3)\n",
    "axs[0][0].hist(df['x1'])\n",
    "axs[0][1].hist(df['x2'])\n",
    "axs[0][2].hist(df['x3'])\n",
    "axs[1][0].hist(df['x4'])\n",
    "axs[1][1].hist(df['x5'])\n",
    "axs[1][2].hist(df['x6'])"
   ]
  },
  {
   "cell_type": "markdown",
   "metadata": {},
   "source": [
    "### Logistic Regression"
   ]
  },
  {
   "cell_type": "code",
   "execution_count": 9,
   "metadata": {},
   "outputs": [
    {
     "data": {
      "text/plain": [
       "LogisticRegression()"
      ]
     },
     "execution_count": 9,
     "metadata": {},
     "output_type": "execute_result"
    }
   ],
   "source": [
    "lr = LogisticRegression()\n",
    "lr.fit(x_train, y_train)"
   ]
  },
  {
   "cell_type": "code",
   "execution_count": 10,
   "metadata": {},
   "outputs": [
    {
     "name": "stdout",
     "output_type": "stream",
     "text": [
      "Score: 0.5\n"
     ]
    },
    {
     "data": {
      "text/plain": [
       "array([[0.76      , 0.72      , 0.72      , 0.72      , 0.72      ],\n",
       "       [0.62650602, 0.68674699, 0.6746988 , 0.6746988 , 0.6746988 ],\n",
       "       [0.61428571, 0.62857143, 0.65      , 0.65714286, 0.65714286],\n",
       "       [0.60606061, 0.64141414, 0.63131313, 0.60606061, 0.6010101 ],\n",
       "       [0.609375  , 0.640625  , 0.59765625, 0.609375  , 0.59375   ]])"
      ]
     },
     "execution_count": 10,
     "metadata": {},
     "output_type": "execute_result"
    },
    {
     "data": {
      "image/png": "[encoded data removed]",
      "text/plain": [
       "<Figure size 432x288 with 1 Axes>"
      ]
     },
     "metadata": {
      "needs_background": "light"
     },
     "output_type": "display_data"
    }
   ],
   "source": [
    "lr.predict(x_test)\n",
    "print('Score:', lr.score(x_test, y_test))\n",
    "train_sizes, train_scores, test_scores = learning_curve(lr, x_train, y_train, cv=5)\n",
    "plt.plot(train_scores)\n",
    "train_scores"
   ]
  },
  {
   "cell_type": "markdown",
   "metadata": {},
   "source": [
    "### K Nearest Neighbours"
   ]
  },
  {
   "cell_type": "code",
   "execution_count": 11,
   "metadata": {},
   "outputs": [
    {
     "data": {
      "text/plain": [
       "KNeighborsClassifier(n_neighbors=2)"
      ]
     },
     "execution_count": 11,
     "metadata": {},
     "output_type": "execute_result"
    }
   ],
   "source": [
    "# with 2 neighbours\n",
    "knn = KNeighborsClassifier(n_neighbors=2)\n",
    "knn.fit(x_train, y_train)"
   ]
  },
  {
   "cell_type": "code",
   "execution_count": 12,
   "metadata": {},
   "outputs": [
    {
     "data": {
      "text/plain": [
       "0.6"
      ]
     },
     "execution_count": 12,
     "metadata": {},
     "output_type": "execute_result"
    }
   ],
   "source": [
    "knn.score(x_test, y_test)"
   ]
  },
  {
   "cell_type": "markdown",
   "metadata": {},
   "source": [
    "### Decision Tree Classifier"
   ]
  },
  {
   "cell_type": "code",
   "execution_count": 13,
   "metadata": {},
   "outputs": [
    {
     "data": {
      "text/plain": [
       "DecisionTreeClassifier()"
      ]
     },
     "execution_count": 13,
     "metadata": {},
     "output_type": "execute_result"
    }
   ],
   "source": [
    "dt = DecisionTreeClassifier()\n",
    "dt.fit(x_train, y_train)"
   ]
  },
  {
   "cell_type": "code",
   "execution_count": 14,
   "metadata": {},
   "outputs": [
    {
     "data": {
      "text/plain": [
       "0.7875"
      ]
     },
     "execution_count": 14,
     "metadata": {},
     "output_type": "execute_result"
    }
   ],
   "source": [
    "dt.score(x_test, y_test)"
   ]
  },
  {
   "cell_type": "markdown",
   "metadata": {},
   "source": [
    "### Support Vector Machine"
   ]
  },
  {
   "cell_type": "code",
   "execution_count": 15,
   "metadata": {},
   "outputs": [
    {
     "data": {
      "text/plain": [
       "SVC()"
      ]
     },
     "execution_count": 15,
     "metadata": {},
     "output_type": "execute_result"
    }
   ],
   "source": [
    "svm = SVC()\n",
    "svm.fit(x_train, y_train)"
   ]
  },
  {
   "cell_type": "code",
   "execution_count": 16,
   "metadata": {},
   "outputs": [
    {
     "name": "stdout",
     "output_type": "stream",
     "text": [
      "Score: 0.5875\n"
     ]
    },
    {
     "data": {
      "image/png": "[encoded data removed]",
      "text/plain": [
       "<Figure size 432x288 with 1 Axes>"
      ]
     },
     "metadata": {
      "needs_background": "light"
     },
     "output_type": "display_data"
    }
   ],
   "source": [
    "print('Score:', svm.score(x_test, y_test))\n",
    "svc_disp = plot_roc_curve(svm, x_train, y_train)"
   ]
  },
  {
   "cell_type": "markdown",
   "metadata": {},
   "source": [
    "### Random Forest Classifier"
   ]
  },
  {
   "cell_type": "code",
   "execution_count": 17,
   "metadata": {},
   "outputs": [
    {
     "data": {
      "text/plain": [
       "RandomForestClassifier()"
      ]
     },
     "execution_count": 17,
     "metadata": {},
     "output_type": "execute_result"
    }
   ],
   "source": [
    "rf = RandomForestClassifier()\n",
    "rf.fit(x_train, y_train)"
   ]
  },
  {
   "cell_type": "code",
   "execution_count": 18,
   "metadata": {},
   "outputs": [
    {
     "data": {
      "text/plain": [
       "0.85"
      ]
     },
     "execution_count": 18,
     "metadata": {},
     "output_type": "execute_result"
    }
   ],
   "source": [
    "rf.score(x_test, y_test)"
   ]
  },
  {
   "cell_type": "markdown",
   "metadata": {},
   "source": [
    "### Naive Bayes Classifier"
   ]
  },
  {
   "cell_type": "code",
   "execution_count": 19,
   "metadata": {},
   "outputs": [
    {
     "data": {
      "text/plain": [
       "GaussianNB()"
      ]
     },
     "execution_count": 19,
     "metadata": {},
     "output_type": "execute_result"
    }
   ],
   "source": [
    "nb = GaussianNB()\n",
    "nb.fit(x_train, y_train)"
   ]
  },
  {
   "cell_type": "code",
   "execution_count": 20,
   "metadata": {},
   "outputs": [
    {
     "data": {
      "text/plain": [
       "0.575"
      ]
     },
     "execution_count": 20,
     "metadata": {},
     "output_type": "execute_result"
    }
   ],
   "source": [
    "nb.score(x_test, y_test)"
   ]
  },
  {
   "cell_type": "markdown",
   "metadata": {},
   "source": [
    "# Deep Learning"
   ]
  },
  {
   "cell_type": "code",
   "execution_count": 27,
   "metadata": {},
   "outputs": [],
   "source": [
    "from tensorflow.keras.models import Sequential\n",
    "from tensorflow.keras.layers import Dense, Dropout\n",
    "from tensorflow.nn import relu, sigmoid\n",
    "from tensorflow.keras.optimizers import Adam\n",
    "from tensorflow.keras.losses import BinaryCrossentropy\n",
    "from tensorflow.keras.callbacks import Callback\n",
    "from tensorflow.keras.models import load_model"
   ]
  },
  {
   "cell_type": "code",
   "execution_count": 22,
   "metadata": {},
   "outputs": [],
   "source": [
    "class myCallback(Callback):\n",
    "    \n",
    "    def on_epoch_end(self, epoch, logs={}):\n",
    "        if(logs.get('accuracy')>0.85):\n",
    "            print(\"\\nReached 85% accuracy so cancelling training!\")\n",
    "            self.model.stop_training = True"
   ]
  },
  {
   "cell_type": "code",
   "execution_count": 23,
   "metadata": {},
   "outputs": [],
   "source": [
    "model = Sequential([\n",
    "    Dense(6, activation=relu),\n",
    "    Dense(1, activation=sigmoid)\n",
    "])\n",
    "\n",
    "model.compile(optimizer=Adam(learning_rate=0.05),\n",
    "             loss=BinaryCrossentropy(),\n",
    "             metrics=['accuracy']\n",
    "             )"
   ]
  },
  {
   "cell_type": "code",
   "execution_count": 24,
   "metadata": {
    "scrolled": true
   },
   "outputs": [
    {
     "name": "stdout",
     "output_type": "stream",
     "text": [
      "Epoch 1/150\n",
      "WARNING:tensorflow:Layer dense is casting an input tensor from dtype float64 to the layer's dtype of float32, which is new behavior in TensorFlow 2.  The layer has dtype float32 because its dtype defaults to floatx.\n",
      "\n",
      "If you intended to run this layer in float32, you can safely ignore this warning. If in doubt, this warning is likely only an issue if you are porting a TensorFlow 1.X model to TensorFlow 2.\n",
      "\n",
      "To change all layers to have dtype float64 by default, call `tf.keras.backend.set_floatx('float64')`. To change just this layer, pass dtype='float64' to the layer constructor. If you are the author of this layer, you can disable autocasting by passing autocast=False to the base Layer constructor.\n",
      "\n",
      "10/10 [==============================] - 0s 17ms/step - loss: 2.5354 - accuracy: 0.5656 - val_loss: 0.9550 - val_accuracy: 0.5750\n",
      "Epoch 2/150\n",
      "10/10 [==============================] - 0s 5ms/step - loss: 0.8770 - accuracy: 0.5969 - val_loss: 0.5767 - val_accuracy: 0.6750\n",
      "Epoch 3/150\n",
      "10/10 [==============================] - 0s 5ms/step - loss: 0.6845 - accuracy: 0.5562 - val_loss: 0.6473 - val_accuracy: 0.5375\n",
      "Epoch 4/150\n",
      "10/10 [==============================] - 0s 7ms/step - loss: 0.6562 - accuracy: 0.5906 - val_loss: 0.6792 - val_accuracy: 0.5625\n",
      "Epoch 5/150\n",
      "10/10 [==============================] - 0s 3ms/step - loss: 0.6378 - accuracy: 0.6281 - val_loss: 0.7163 - val_accuracy: 0.6125\n",
      "Epoch 6/150\n",
      "10/10 [==============================] - 0s 6ms/step - loss: 0.6504 - accuracy: 0.6219 - val_loss: 0.6958 - val_accuracy: 0.6000\n",
      "Epoch 7/150\n",
      "10/10 [==============================] - 0s 3ms/step - loss: 0.6272 - accuracy: 0.6125 - val_loss: 0.5960 - val_accuracy: 0.6000\n",
      "Epoch 8/150\n",
      "10/10 [==============================] - 0s 6ms/step - loss: 0.5898 - accuracy: 0.7125 - val_loss: 0.5333 - val_accuracy: 0.7125\n",
      "Epoch 9/150\n",
      "10/10 [==============================] - 0s 4ms/step - loss: 0.5635 - accuracy: 0.7063 - val_loss: 0.6514 - val_accuracy: 0.6500\n",
      "Epoch 10/150\n",
      "10/10 [==============================] - 0s 6ms/step - loss: 0.5651 - accuracy: 0.7125 - val_loss: 0.5404 - val_accuracy: 0.6875\n",
      "Epoch 11/150\n",
      "10/10 [==============================] - 0s 5ms/step - loss: 0.5707 - accuracy: 0.6969 - val_loss: 0.5162 - val_accuracy: 0.7625\n",
      "Epoch 12/150\n",
      "10/10 [==============================] - 0s 4ms/step - loss: 0.5681 - accuracy: 0.7156 - val_loss: 0.7583 - val_accuracy: 0.5375\n",
      "Epoch 13/150\n",
      "10/10 [==============================] - 0s 5ms/step - loss: 0.5578 - accuracy: 0.6938 - val_loss: 0.5319 - val_accuracy: 0.7000\n",
      "Epoch 14/150\n",
      "10/10 [==============================] - 0s 4ms/step - loss: 0.5834 - accuracy: 0.7219 - val_loss: 0.5703 - val_accuracy: 0.7250\n",
      "Epoch 15/150\n",
      "10/10 [==============================] - 0s 6ms/step - loss: 0.5392 - accuracy: 0.7500 - val_loss: 0.5196 - val_accuracy: 0.6625\n",
      "Epoch 16/150\n",
      "10/10 [==============================] - 0s 6ms/step - loss: 0.5169 - accuracy: 0.7281 - val_loss: 0.4902 - val_accuracy: 0.7625\n",
      "Epoch 17/150\n",
      "10/10 [==============================] - 0s 4ms/step - loss: 0.4999 - accuracy: 0.7844 - val_loss: 0.5457 - val_accuracy: 0.7125\n",
      "Epoch 18/150\n",
      "10/10 [==============================] - 0s 6ms/step - loss: 0.4826 - accuracy: 0.7812 - val_loss: 0.4960 - val_accuracy: 0.7250\n",
      "Epoch 19/150\n",
      "10/10 [==============================] - 0s 6ms/step - loss: 0.4890 - accuracy: 0.7875 - val_loss: 0.5496 - val_accuracy: 0.6375\n",
      "Epoch 20/150\n",
      "10/10 [==============================] - 0s 5ms/step - loss: 0.4789 - accuracy: 0.7750 - val_loss: 0.4907 - val_accuracy: 0.7125\n",
      "Epoch 21/150\n",
      "10/10 [==============================] - 0s 5ms/step - loss: 0.4812 - accuracy: 0.7844 - val_loss: 0.5052 - val_accuracy: 0.6750\n",
      "Epoch 22/150\n",
      "10/10 [==============================] - 0s 5ms/step - loss: 0.4900 - accuracy: 0.7656 - val_loss: 0.5508 - val_accuracy: 0.7000\n",
      "Epoch 23/150\n",
      "10/10 [==============================] - 0s 7ms/step - loss: 0.4917 - accuracy: 0.7625 - val_loss: 0.4876 - val_accuracy: 0.7000\n",
      "Epoch 24/150\n",
      "10/10 [==============================] - 0s 4ms/step - loss: 0.4814 - accuracy: 0.7563 - val_loss: 0.5241 - val_accuracy: 0.7125\n",
      "Epoch 25/150\n",
      "10/10 [==============================] - 0s 4ms/step - loss: 0.4899 - accuracy: 0.7469 - val_loss: 0.4953 - val_accuracy: 0.7125\n",
      "Epoch 26/150\n",
      "10/10 [==============================] - 0s 5ms/step - loss: 0.4730 - accuracy: 0.7688 - val_loss: 0.4877 - val_accuracy: 0.7250\n",
      "Epoch 27/150\n",
      "10/10 [==============================] - 0s 5ms/step - loss: 0.4795 - accuracy: 0.7656 - val_loss: 0.4590 - val_accuracy: 0.7625\n",
      "Epoch 28/150\n",
      "10/10 [==============================] - 0s 6ms/step - loss: 0.4749 - accuracy: 0.7844 - val_loss: 0.5017 - val_accuracy: 0.7250\n",
      "Epoch 29/150\n",
      "10/10 [==============================] - 0s 5ms/step - loss: 0.4733 - accuracy: 0.7656 - val_loss: 0.4980 - val_accuracy: 0.7375\n",
      "Epoch 30/150\n",
      "10/10 [==============================] - 0s 5ms/step - loss: 0.4594 - accuracy: 0.7719 - val_loss: 0.4664 - val_accuracy: 0.7500\n",
      "Epoch 31/150\n",
      "10/10 [==============================] - 0s 5ms/step - loss: 0.4544 - accuracy: 0.7906 - val_loss: 0.5167 - val_accuracy: 0.7250\n",
      "Epoch 32/150\n",
      "10/10 [==============================] - 0s 5ms/step - loss: 0.4596 - accuracy: 0.7969 - val_loss: 0.4350 - val_accuracy: 0.7750\n",
      "Epoch 33/150\n",
      "10/10 [==============================] - 0s 5ms/step - loss: 0.4434 - accuracy: 0.7875 - val_loss: 0.4564 - val_accuracy: 0.7375\n",
      "Epoch 34/150\n",
      "10/10 [==============================] - 0s 6ms/step - loss: 0.4355 - accuracy: 0.8000 - val_loss: 0.4727 - val_accuracy: 0.7125\n",
      "Epoch 35/150\n",
      "10/10 [==============================] - 0s 5ms/step - loss: 0.4349 - accuracy: 0.7844 - val_loss: 0.4661 - val_accuracy: 0.7375\n",
      "Epoch 36/150\n",
      "10/10 [==============================] - 0s 3ms/step - loss: 0.4428 - accuracy: 0.7969 - val_loss: 0.6012 - val_accuracy: 0.6875\n",
      "Epoch 37/150\n",
      "10/10 [==============================] - 0s 5ms/step - loss: 0.4946 - accuracy: 0.7625 - val_loss: 0.5390 - val_accuracy: 0.7125\n",
      "Epoch 38/150\n",
      "10/10 [==============================] - 0s 5ms/step - loss: 0.4618 - accuracy: 0.7781 - val_loss: 0.4765 - val_accuracy: 0.7125\n",
      "Epoch 39/150\n",
      "10/10 [==============================] - 0s 6ms/step - loss: 0.4363 - accuracy: 0.7969 - val_loss: 0.4530 - val_accuracy: 0.7750\n",
      "Epoch 40/150\n",
      "10/10 [==============================] - 0s 5ms/step - loss: 0.4568 - accuracy: 0.7719 - val_loss: 0.5034 - val_accuracy: 0.7375\n",
      "Epoch 41/150\n",
      "10/10 [==============================] - 0s 5ms/step - loss: 0.4868 - accuracy: 0.7844 - val_loss: 0.4588 - val_accuracy: 0.7375\n",
      "Epoch 42/150\n",
      "10/10 [==============================] - 0s 6ms/step - loss: 0.4438 - accuracy: 0.7937 - val_loss: 0.4606 - val_accuracy: 0.7750\n",
      "Epoch 43/150\n",
      "10/10 [==============================] - 0s 3ms/step - loss: 0.4340 - accuracy: 0.7937 - val_loss: 0.4478 - val_accuracy: 0.7500\n",
      "Epoch 44/150\n",
      "10/10 [==============================] - 0s 4ms/step - loss: 0.4349 - accuracy: 0.7906 - val_loss: 0.4855 - val_accuracy: 0.7250\n",
      "Epoch 45/150\n",
      "10/10 [==============================] - 0s 5ms/step - loss: 0.4606 - accuracy: 0.7812 - val_loss: 0.4309 - val_accuracy: 0.7875\n",
      "Epoch 46/150\n",
      "10/10 [==============================] - ETA: 0s - loss: 0.3389 - accuracy: 0.87 - 0s 5ms/step - loss: 0.4333 - accuracy: 0.8094 - val_loss: 0.4817 - val_accuracy: 0.7125\n",
      "Epoch 47/150\n",
      "10/10 [==============================] - 0s 4ms/step - loss: 0.4381 - accuracy: 0.7812 - val_loss: 0.4383 - val_accuracy: 0.7500\n",
      "Epoch 48/150\n",
      "10/10 [==============================] - 0s 4ms/step - loss: 0.4645 - accuracy: 0.7750 - val_loss: 0.4957 - val_accuracy: 0.7000\n",
      "Epoch 49/150\n",
      "10/10 [==============================] - 0s 5ms/step - loss: 0.4737 - accuracy: 0.7750 - val_loss: 0.4823 - val_accuracy: 0.7750\n",
      "Epoch 50/150\n",
      "10/10 [==============================] - 0s 5ms/step - loss: 0.4630 - accuracy: 0.7875 - val_loss: 0.5235 - val_accuracy: 0.7125\n",
      "Epoch 51/150\n",
      "10/10 [==============================] - 0s 6ms/step - loss: 0.4393 - accuracy: 0.7750 - val_loss: 0.4547 - val_accuracy: 0.7250\n",
      "Epoch 52/150\n",
      "10/10 [==============================] - 0s 6ms/step - loss: 0.4234 - accuracy: 0.7969 - val_loss: 0.4929 - val_accuracy: 0.7500\n",
      "Epoch 53/150\n",
      "10/10 [==============================] - 0s 3ms/step - loss: 0.4262 - accuracy: 0.7906 - val_loss: 0.4217 - val_accuracy: 0.7750\n",
      "Epoch 54/150\n",
      "10/10 [==============================] - 0s 4ms/step - loss: 0.4279 - accuracy: 0.7937 - val_loss: 0.5604 - val_accuracy: 0.7000\n",
      "Epoch 55/150\n",
      "10/10 [==============================] - 0s 5ms/step - loss: 0.4623 - accuracy: 0.7844 - val_loss: 0.5384 - val_accuracy: 0.6750\n",
      "Epoch 56/150\n",
      "10/10 [==============================] - 0s 5ms/step - loss: 0.4776 - accuracy: 0.7812 - val_loss: 0.5150 - val_accuracy: 0.7375\n",
      "Epoch 57/150\n",
      "10/10 [==============================] - 0s 3ms/step - loss: 0.4488 - accuracy: 0.7656 - val_loss: 0.4770 - val_accuracy: 0.7125\n",
      "Epoch 58/150\n",
      "10/10 [==============================] - 0s 5ms/step - loss: 0.4276 - accuracy: 0.8000 - val_loss: 0.5797 - val_accuracy: 0.6750\n",
      "Epoch 59/150\n",
      "10/10 [==============================] - 0s 5ms/step - loss: 0.4585 - accuracy: 0.7812 - val_loss: 0.4744 - val_accuracy: 0.7500\n",
      "Epoch 60/150\n",
      "10/10 [==============================] - 0s 5ms/step - loss: 0.4246 - accuracy: 0.7906 - val_loss: 0.4619 - val_accuracy: 0.7500\n",
      "Epoch 61/150\n",
      "10/10 [==============================] - 0s 6ms/step - loss: 0.4036 - accuracy: 0.8125 - val_loss: 0.4449 - val_accuracy: 0.8000\n",
      "Epoch 62/150\n",
      "10/10 [==============================] - 0s 6ms/step - loss: 0.4208 - accuracy: 0.7969 - val_loss: 0.4708 - val_accuracy: 0.7500\n",
      "Epoch 63/150\n",
      "10/10 [==============================] - 0s 5ms/step - loss: 0.4523 - accuracy: 0.7781 - val_loss: 0.6041 - val_accuracy: 0.7000\n",
      "Epoch 64/150\n",
      "10/10 [==============================] - 0s 5ms/step - loss: 0.4908 - accuracy: 0.7594 - val_loss: 0.5019 - val_accuracy: 0.7500\n",
      "Epoch 65/150\n",
      "10/10 [==============================] - 0s 5ms/step - loss: 0.4308 - accuracy: 0.8031 - val_loss: 0.3967 - val_accuracy: 0.7875\n",
      "Epoch 66/150\n",
      "10/10 [==============================] - 0s 5ms/step - loss: 0.4074 - accuracy: 0.8156 - val_loss: 0.5504 - val_accuracy: 0.7125\n",
      "Epoch 67/150\n",
      "10/10 [==============================] - 0s 5ms/step - loss: 0.4388 - accuracy: 0.7781 - val_loss: 0.4577 - val_accuracy: 0.7875\n",
      "Epoch 68/150\n",
      "10/10 [==============================] - 0s 5ms/step - loss: 0.4240 - accuracy: 0.7969 - val_loss: 0.5442 - val_accuracy: 0.7250\n",
      "Epoch 69/150\n",
      "10/10 [==============================] - 0s 5ms/step - loss: 0.4474 - accuracy: 0.7937 - val_loss: 0.4194 - val_accuracy: 0.8500\n",
      "Epoch 70/150\n",
      "10/10 [==============================] - 0s 4ms/step - loss: 0.4189 - accuracy: 0.8188 - val_loss: 0.5058 - val_accuracy: 0.7375\n",
      "Epoch 71/150\n",
      "10/10 [==============================] - 0s 5ms/step - loss: 0.4328 - accuracy: 0.7812 - val_loss: 0.6151 - val_accuracy: 0.6750\n",
      "Epoch 72/150\n",
      "10/10 [==============================] - 0s 5ms/step - loss: 0.4371 - accuracy: 0.7875 - val_loss: 0.4496 - val_accuracy: 0.7750\n",
      "Epoch 73/150\n",
      "10/10 [==============================] - 0s 5ms/step - loss: 0.4109 - accuracy: 0.7844 - val_loss: 0.4612 - val_accuracy: 0.7750\n",
      "Epoch 74/150\n",
      "10/10 [==============================] - 0s 5ms/step - loss: 0.4115 - accuracy: 0.8000 - val_loss: 0.5417 - val_accuracy: 0.6875\n",
      "Epoch 75/150\n",
      "10/10 [==============================] - 0s 5ms/step - loss: 0.4085 - accuracy: 0.7906 - val_loss: 0.4614 - val_accuracy: 0.8000\n",
      "Epoch 76/150\n",
      "10/10 [==============================] - 0s 5ms/step - loss: 0.4199 - accuracy: 0.8031 - val_loss: 0.4307 - val_accuracy: 0.8000\n",
      "Epoch 77/150\n",
      "10/10 [==============================] - 0s 4ms/step - loss: 0.3680 - accuracy: 0.8344 - val_loss: 0.4894 - val_accuracy: 0.7750\n",
      "Epoch 78/150\n",
      "10/10 [==============================] - 0s 7ms/step - loss: 0.3773 - accuracy: 0.8250 - val_loss: 0.3818 - val_accuracy: 0.8250\n",
      "Epoch 79/150\n",
      "10/10 [==============================] - 0s 5ms/step - loss: 0.3807 - accuracy: 0.8313 - val_loss: 0.4498 - val_accuracy: 0.8125\n",
      "Epoch 80/150\n",
      "10/10 [==============================] - 0s 5ms/step - loss: 0.3520 - accuracy: 0.8406 - val_loss: 0.3850 - val_accuracy: 0.8125\n",
      "Epoch 81/150\n",
      "10/10 [==============================] - 0s 5ms/step - loss: 0.3441 - accuracy: 0.8406 - val_loss: 0.3881 - val_accuracy: 0.8625\n",
      "Epoch 82/150\n",
      "10/10 [==============================] - 0s 4ms/step - loss: 0.3659 - accuracy: 0.8094 - val_loss: 0.5181 - val_accuracy: 0.7500\n",
      "Epoch 83/150\n",
      "10/10 [==============================] - 0s 6ms/step - loss: 0.4340 - accuracy: 0.8125 - val_loss: 0.4815 - val_accuracy: 0.7750\n",
      "Epoch 84/150\n",
      "10/10 [==============================] - 0s 5ms/step - loss: 0.3977 - accuracy: 0.8156 - val_loss: 0.4313 - val_accuracy: 0.8125\n",
      "Epoch 85/150\n",
      "10/10 [==============================] - 0s 5ms/step - loss: 0.3511 - accuracy: 0.8281 - val_loss: 0.3734 - val_accuracy: 0.8500\n",
      "Epoch 86/150\n",
      "10/10 [==============================] - 0s 4ms/step - loss: 0.4114 - accuracy: 0.8219 - val_loss: 0.4349 - val_accuracy: 0.8125\n",
      "Epoch 87/150\n",
      "10/10 [==============================] - 0s 5ms/step - loss: 0.4056 - accuracy: 0.8031 - val_loss: 0.4630 - val_accuracy: 0.7500\n",
      "Epoch 88/150\n",
      "10/10 [==============================] - 0s 3ms/step - loss: 0.3970 - accuracy: 0.8062 - val_loss: 0.4057 - val_accuracy: 0.8500\n",
      "Epoch 89/150\n",
      "10/10 [==============================] - 0s 5ms/step - loss: 0.3799 - accuracy: 0.8000 - val_loss: 0.4043 - val_accuracy: 0.8375\n",
      "Epoch 90/150\n",
      "10/10 [==============================] - 0s 4ms/step - loss: 0.3780 - accuracy: 0.8406 - val_loss: 0.4306 - val_accuracy: 0.8375\n",
      "Epoch 91/150\n",
      "10/10 [==============================] - 0s 6ms/step - loss: 0.3646 - accuracy: 0.8469 - val_loss: 0.4069 - val_accuracy: 0.8250\n",
      "Epoch 92/150\n",
      "10/10 [==============================] - 0s 4ms/step - loss: 0.3642 - accuracy: 0.8406 - val_loss: 0.3657 - val_accuracy: 0.8500\n",
      "Epoch 93/150\n",
      "10/10 [==============================] - 0s 6ms/step - loss: 0.3595 - accuracy: 0.8156 - val_loss: 0.4784 - val_accuracy: 0.7750\n",
      "Epoch 94/150\n",
      "10/10 [==============================] - 0s 5ms/step - loss: 0.4369 - accuracy: 0.7969 - val_loss: 0.3894 - val_accuracy: 0.8125\n",
      "Epoch 95/150\n",
      "10/10 [==============================] - 0s 12ms/step - loss: 0.3933 - accuracy: 0.8031 - val_loss: 0.4380 - val_accuracy: 0.8000\n",
      "Epoch 96/150\n",
      "10/10 [==============================] - 0s 3ms/step - loss: 0.3651 - accuracy: 0.8219 - val_loss: 0.3923 - val_accuracy: 0.8375\n",
      "Epoch 97/150\n",
      "10/10 [==============================] - 0s 7ms/step - loss: 0.3336 - accuracy: 0.8406 - val_loss: 0.4216 - val_accuracy: 0.7875\n",
      "Epoch 98/150\n",
      " 1/10 [==>...........................] - ETA: 0s - loss: 0.3840 - accuracy: 0.8438\n",
      "Reached 85% accuracy so cancelling training!\n",
      "10/10 [==============================] - 0s 3ms/step - loss: 0.3344 - accuracy: 0.8562 - val_loss: 0.4238 - val_accuracy: 0.8375\n"
     ]
    },
    {
     "data": {
      "text/plain": [
       "<tensorflow.python.keras.callbacks.History at 0x7feb15e5de50>"
      ]
     },
     "execution_count": 24,
     "metadata": {},
     "output_type": "execute_result"
    }
   ],
   "source": [
    "callbacks = myCallback()\n",
    "\n",
    "model.fit(x_train, y_train, epochs=150, batch_size=32, \n",
    "         validation_data=(x_test, y_test),\n",
    "         callbacks=[callbacks])"
   ]
  },
  {
   "cell_type": "code",
   "execution_count": 25,
   "metadata": {},
   "outputs": [],
   "source": [
    "model.save('model.h5')"
   ]
  },
  {
   "cell_type": "code",
   "execution_count": 29,
   "metadata": {},
   "outputs": [],
   "source": [
    "n_model = load_model('model.h5')"
   ]
  },
  {
   "cell_type": "code",
   "execution_count": 30,
   "metadata": {},
   "outputs": [
    {
     "name": "stdout",
     "output_type": "stream",
     "text": [
      "3/3 [==============================] - 0s 1ms/step - loss: 0.4238 - accuracy: 0.8375\n"
     ]
    },
    {
     "data": {
      "text/plain": [
       "[0.42378097772598267, 0.8374999761581421]"
      ]
     },
     "execution_count": 30,
     "metadata": {},
     "output_type": "execute_result"
    }
   ],
   "source": [
    "n_model.evaluate(x_test, y_test)"
   ]
  },
  {
   "cell_type": "code",
   "execution_count": null,
   "metadata": {},
   "outputs": [],
   "source": []
  }
 ],
 "metadata": {
  "kernelspec": {
   "display_name": "ml_training",
   "language": "python",
   "name": "ml_training"
  },
  "language_info": {
   "codemirror_mode": {
    "name": "ipython",
    "version": 3
   },
   "file_extension": ".py",
   "mimetype": "text/x-python",
   "name": "python",
   "nbconvert_exporter": "python",
   "pygments_lexer": "ipython3",
   "version": "3.8.5"
  }
 },
 "nbformat": 4,
 "nbformat_minor": 4
}
